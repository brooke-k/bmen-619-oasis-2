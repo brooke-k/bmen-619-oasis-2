{
 "cells": [
  {
   "cell_type": "code",
   "execution_count": 19,
   "metadata": {},
   "outputs": [],
   "source": [
    "import os\n",
    "import shutil\n",
    "import re\n",
    "import pandas as pd\n",
    "import numpy as np\n",
    "from dotenv import load_dotenv\n",
    "import nibabel as nib"
   ]
  },
  {
   "cell_type": "markdown",
   "metadata": {},
   "source": [
    "# Data Organization"
   ]
  },
  {
   "cell_type": "code",
   "execution_count": 20,
   "metadata": {},
   "outputs": [
    {
     "name": "stdout",
     "output_type": "stream",
     "text": [
      "9/10 (90.00%)[██████████████████--]\n"
     ]
    }
   ],
   "source": [
    "from IPython.display import clear_output\n",
    "def printUpdate(count, total):\n",
    "  clear_output(wait=True)\n",
    "  percent = 100.*count/total\n",
    "  print(f\"{count}/{total} ({percent:.2f}%)\", end=\"\")\n",
    "  print(f'[{\"██\"*int(percent//10)}{\"--\"*int((100-percent)//10)}]')\n",
    "\n",
    "\n",
    "\n",
    "for i in range(10):\n",
    "  printUpdate(i, 10)"
   ]
  },
  {
   "cell_type": "code",
   "execution_count": 21,
   "metadata": {},
   "outputs": [],
   "source": [
    "def moveRename(source, dest, num_files = 291):\n",
    "    \"\"\"\n",
    "    Moves all .hdr and .img images from source location to a single directory\n",
    "    \"\"\"\n",
    "    rawDirPat = r\"(?:[\\W\\S]+?)OAS2_([0-9]{4})_MR([0-9]{1})/RAW\"\n",
    "    i = 0\n",
    "    for root, dir, files in os.walk(source):\n",
    "        r_match = re.findall(rawDirPat, root)\n",
    "        if len(r_match) > 0:\n",
    "            subID = r_match[0][0]\n",
    "            session = r_match[0][1]\n",
    "            new_name = f\"{subID}_{session}\"\n",
    "            for f in files:\n",
    "                fname, fext = os.path.splitext(f)\n",
    "                if fext == \".img\" or fext == \".hdr\":\n",
    "                    f_match = re.findall(r\"mpr-([0-9]{1}).nifti\", fname)\n",
    "                    if len(f_match) > 0:\n",
    "                        f_num = f_match[0]\n",
    "                        old_name = os.path.join(root, f)\n",
    "                        new_name = os.path.join(\n",
    "                            dest, f\"OAS2_{subID}_MR{f_num}_V{session}.nifti{fext}\"\n",
    "                        )\n",
    "\n",
    "                        printUpdate(i, num_files)\n",
    "                        i += 1\n",
    "                        shutil.copy2(old_name, new_name)\n",
    "    print()"
   ]
  },
  {
   "cell_type": "code",
   "execution_count": 22,
   "metadata": {},
   "outputs": [],
   "source": [
    "def convertToNii(source, num_files = 291):\n",
    "    \"\"\"\n",
    "    Convert images from .img to .nii format and get rid of .img and .hdr files.\n",
    "    \"\"\"\n",
    "\n",
    "    i = 0\n",
    "    for root, dir, files in os.walk(source):\n",
    "        for f in files:\n",
    "            fbase, fext = os.path.splitext(f)\n",
    "            if fext == \".img\":\n",
    "                # print(f\"Converting {f}\")\n",
    "                printUpdate(i, num_files)\n",
    "                i += 1\n",
    "                fname = os.path.join(root, f)\n",
    "                img = nib.load(fname)\n",
    "                nib.save(img, fname.replace(\".img\", \".nii\"))\n",
    "                os.remove(os.path.join(root, fbase + \".hdr\"))\n",
    "                os.remove(os.path.join(root, fbase + \".img\"))\n",
    "    print()"
   ]
  },
  {
   "cell_type": "code",
   "execution_count": 23,
   "metadata": {},
   "outputs": [],
   "source": [
    "import matplotlib as mpl\n",
    "import matplotlib.pyplot as plt\n",
    "from scipy import misc\n",
    "\n",
    "def toRGB(data):\n",
    "    x, y = data.shape[:2]\n",
    "    data = (data-data.min())/(data.max()-data.min())\n",
    "\n",
    "    img_arr = np.empty(shape=(x,y,4))\n",
    "    img_arr[:, :, :3] = data\n",
    "    img_arr[:, :, 3] = 1.\n",
    "    return img_arr\n",
    "\n",
    "def convertToJPG(source, num_files = 291):\n",
    "    \"\"\"\n",
    "    Convert images from .nii to .jpg format\n",
    "    \"\"\"\n",
    "\n",
    "    i = 0\n",
    "    shape = (0,0,0,0)\n",
    "    for root, dir, files in os.walk(source):\n",
    "        for f in files:\n",
    "            fbase, fext = os.path.splitext(f)\n",
    "            if fext == \".nii\":\n",
    "                # print(f\"Converting {f}\")\n",
    "                printUpdate(i, num_files)\n",
    "                i += 1\n",
    "                fname = os.path.join(root, f)\n",
    "                img = nib.load(fname)\n",
    "                data = img.get_fdata()[116,:,:]\n",
    "\n",
    "                img_arr = toRGB(data)\n",
    "                shape = img_arr.shape\n",
    "                plt.imsave(fname.replace(\".nifti.nii\", \".jpg\"), img_arr)\n",
    "    return shape\n"
   ]
  },
  {
   "cell_type": "markdown",
   "metadata": {},
   "source": []
  },
  {
   "cell_type": "code",
   "execution_count": 24,
   "metadata": {},
   "outputs": [],
   "source": [
    "def removeVisits3to5(source):\n",
    "    \"\"\"\n",
    "    Removes all images taken at visits 3-5\n",
    "    \"\"\"\n",
    "    for root, dir, files in os.walk(source):\n",
    "        for f in files:\n",
    "            m = re.match(r\"OAS2_[0-9]{4}_MR[0-9]{1}_V([0-9]{1})\", f)\n",
    "            session_num = int(m.groups()[0])\n",
    "            if session_num > 2:\n",
    "                print(f\"Removing {f}\")\n",
    "                os.remove(os.path.join(root, f))\n",
    "\n",
    "def removeSubjects(subjectIDs:list, source):\n",
    "    for root, dir, files in os.walk(source):\n",
    "        for f in files:\n",
    "            for id in subjectIDs:\n",
    "                m = re.match(re.compile(\"(\"+id+\")\"), f)\n",
    "                if m!= None:\n",
    "                    subjectIDs.remove(id)\n",
    "                    os.remove(os.path.join(root, f))\n"
   ]
  },
  {
   "cell_type": "code",
   "execution_count": 25,
   "metadata": {},
   "outputs": [],
   "source": [
    "# Only run once, to move data\n",
    "# Set True to move files\n",
    "move_files = False"
   ]
  },
  {
   "cell_type": "markdown",
   "metadata": {},
   "source": []
  },
  {
   "cell_type": "code",
   "execution_count": 26,
   "metadata": {},
   "outputs": [],
   "source": [
    "if move_files:\n",
    "  moveRename(\"datasets/OAS2\", \"datasets/OAS2_nii\", 2733)"
   ]
  },
  {
   "cell_type": "code",
   "execution_count": 27,
   "metadata": {},
   "outputs": [],
   "source": [
    "if move_files:\n",
    "  convertToNii(\"datasets/OAS2_nii\", 1366)"
   ]
  },
  {
   "cell_type": "code",
   "execution_count": 28,
   "metadata": {},
   "outputs": [],
   "source": [
    "if move_files:\n",
    "  data_shape = convertToJPG(\"datasets/OAS2_nii\", 1366)\n"
   ]
  },
  {
   "cell_type": "code",
   "execution_count": 29,
   "metadata": {},
   "outputs": [],
   "source": [
    "if move_files:\n",
    "  removeVisits3to5(\"datasets/OAS2_nii\")\n"
   ]
  },
  {
   "cell_type": "code",
   "execution_count": 30,
   "metadata": {},
   "outputs": [],
   "source": [
    "# Remove subject MRIs who had an age > 95\n",
    "if move_files:\n",
    "  removeSubjects([\"OAS2_0051_MR3\", \"OAS2_0087_MR1\", \"OAS2_0087_MR2\"], os.getenv(\"OAS2NII\"))"
   ]
  },
  {
   "cell_type": "markdown",
   "metadata": {},
   "source": [
    "# Load Data"
   ]
  },
  {
   "cell_type": "code",
   "execution_count": 31,
   "metadata": {},
   "outputs": [],
   "source": [
    "def moveByClass(df, num_files = 291):\n",
    "  train_path = os.path.join(os.getenv(\"OAS2NII\"), \"train\")\n",
    "  test_path = os.path.join(os.getenv(\"OAS2NII\"), \"test\")\n",
    "  dem_path = os.path.join(os.getenv(\"OAS2NII\"), \"class_demented\")\n",
    "  ndem_path = os.path.join(os.getenv(\"OAS2NII\"), \"class_nondemented\")\n",
    "  if not os.path.exists(train_path):\n",
    "    os.makedirs(train_path)\n",
    "    if not os.path.exists(os.path.join(train_path, \"class_demented\")):\n",
    "      os.makedirs(os.path.join(train_path, \"class_demented\"))\n",
    "    if not os.path.exists(os.path.join(train_path, \"class_nondemented\")):\n",
    "      os.makedirs(os.path.join(train_path, \"class_nondemented\"))\n",
    "  if not os.path.exists(test_path):\n",
    "    os.makedirs(test_path)\n",
    "    if not os.path.exists(os.path.join(test_path, \"class_demented\")):\n",
    "      os.makedirs(os.path.join(test_path, \"class_demented\"))\n",
    "    if not os.path.exists(os.path.join(test_path, \"class_nondemented\")):\n",
    "      os.makedirs(os.path.join(test_path, \"class_nondemented\"))\n",
    "\n",
    "  new_paths = []\n",
    "  i = 0\n",
    "  for index, row in df.iterrows():\n",
    "    old_name = row[\"file\"]\n",
    "    fname = os.path.split(old_name)[1]\n",
    "    if row[\"Group\"] == 0:\n",
    "      new_name = os.path.join(os.getenv(\"OAS2NII\"), row[\"Split\"], \"class_nondemented\", fname)\n",
    "    else:\n",
    "      new_name = os.path.join(os.getenv(\"OAS2NII\"), row[\"Split\"], \"class_demented\", fname)\n",
    "    new_paths += [new_name]\n",
    "    printUpdate(i, num_files)\n",
    "    i += 1\n",
    "    os.rename(old_name, new_name)\n",
    "    print(f'Old: {old_name}\\nNew:{new_name}\\n')\n",
    "\n",
    "  files = [f for f in os.listdir(os.getenv(\"OAS2NII\")) if os.path.isfile(os.path.join(os.getenv(\"OAS2NII\"), f))]\n",
    "  # for f in files:\n",
    "  #   os.remove(os.path.join(os.getenv(\"OAS2NII\"),f))\n",
    "\n",
    "  df[\"file\"] = new_paths\n"
   ]
  },
  {
   "cell_type": "code",
   "execution_count": 32,
   "metadata": {},
   "outputs": [],
   "source": [
    "load_dotenv()\n",
    "df = pd.read_excel(\"OAS2-normalized.xlsx\")"
   ]
  },
  {
   "cell_type": "code",
   "execution_count": 33,
   "metadata": {},
   "outputs": [],
   "source": [
    "fnames = []\n",
    "\n",
    "df.set_index(\"MRI ID\", inplace=True)\n",
    "\n",
    "for index, row in df.iterrows():\n",
    "  fname = index + \"_V\" + str(row[\"Visit\"]+1) +  \".jpg\"\n",
    "  fnames += [os.path.join(os.getenv(\"OAS2NII\"),fname)]\n",
    "\n",
    "df[\"file\"] = fnames\n"
   ]
  },
  {
   "cell_type": "code",
   "execution_count": 34,
   "metadata": {},
   "outputs": [],
   "source": [
    "from sklearn.model_selection import train_test_split\n",
    "\n",
    "x_train, x_test, y_train, y_test = train_test_split(df.drop(columns=[\"Group\"]), df[\"Group\"], test_size=0.2, stratify=df[['Group',\"Sex_F\"]])\n",
    "\n",
    "\n",
    "\n",
    "# x_train[\"Split\"] = [\"Train\"]*x_train.shape[0]\n",
    "# # y_train[\"Split\"] = [\"Train\"]*y_train.shape[0]\n",
    "# x_test[\"Split\"] = [\"Test\"]*x_test.shape[0]\n",
    "# y_test[\"Split\"] = [\"Test\"]*y_test.shape[0]\n"
   ]
  },
  {
   "cell_type": "code",
   "execution_count": 35,
   "metadata": {},
   "outputs": [],
   "source": [
    "train = x_train.copy(deep=True)\n",
    "train[\"Split\"] = [\"train\"]*train.shape[0]\n",
    "train[\"Group\"] = y_train.values\n",
    "\n",
    "test = x_test.copy(deep=True)\n",
    "test[\"Split\"] = [\"test\"]*test.shape[0]\n",
    "test[\"Group\"] = y_test.values\n",
    "\n",
    "df = pd.merge(train, test, how=\"outer\")\n"
   ]
  },
  {
   "cell_type": "code",
   "execution_count": null,
   "metadata": {},
   "outputs": [
    {
     "name": "stdout",
     "output_type": "stream",
     "text": [
      "0/291 (0.00%)[--------------------]\n"
     ]
    },
    {
     "ename": "FileNotFoundError",
     "evalue": "[Errno 2] No such file or directory: 'datasets/OAS2_nii/OAS2_0001_MR1_V1.jpg' -> 'datasets/OAS2_nii/train/class_nondemented/OAS2_0001_MR1_V1.jpg'",
     "output_type": "error",
     "traceback": [
      "\u001b[0;31m---------------------------------------------------------------------------\u001b[0m",
      "\u001b[0;31mFileNotFoundError\u001b[0m                         Traceback (most recent call last)",
      "Cell \u001b[0;32mIn[36], line 1\u001b[0m\n\u001b[0;32m----> 1\u001b[0m \u001b[43mmoveByClass\u001b[49m\u001b[43m(\u001b[49m\u001b[43mdf\u001b[49m\u001b[43m)\u001b[49m\n",
      "Cell \u001b[0;32mIn[31], line 31\u001b[0m, in \u001b[0;36mmoveByClass\u001b[0;34m(df, num_files)\u001b[0m\n\u001b[1;32m     29\u001b[0m   printUpdate(i, num_files)\n\u001b[1;32m     30\u001b[0m   i \u001b[38;5;241m+\u001b[39m\u001b[38;5;241m=\u001b[39m \u001b[38;5;241m1\u001b[39m\n\u001b[0;32m---> 31\u001b[0m   \u001b[43mos\u001b[49m\u001b[38;5;241;43m.\u001b[39;49m\u001b[43mrename\u001b[49m\u001b[43m(\u001b[49m\u001b[43mold_name\u001b[49m\u001b[43m,\u001b[49m\u001b[43m \u001b[49m\u001b[43mnew_name\u001b[49m\u001b[43m)\u001b[49m\n\u001b[1;32m     32\u001b[0m   \u001b[38;5;28mprint\u001b[39m(\u001b[38;5;124mf\u001b[39m\u001b[38;5;124m'\u001b[39m\u001b[38;5;124mOld: \u001b[39m\u001b[38;5;132;01m{\u001b[39;00mold_name\u001b[38;5;132;01m}\u001b[39;00m\u001b[38;5;130;01m\\n\u001b[39;00m\u001b[38;5;124mNew:\u001b[39m\u001b[38;5;132;01m{\u001b[39;00mnew_name\u001b[38;5;132;01m}\u001b[39;00m\u001b[38;5;130;01m\\n\u001b[39;00m\u001b[38;5;124m'\u001b[39m)\n\u001b[1;32m     34\u001b[0m files \u001b[38;5;241m=\u001b[39m [f \u001b[38;5;28;01mfor\u001b[39;00m f \u001b[38;5;129;01min\u001b[39;00m os\u001b[38;5;241m.\u001b[39mlistdir(os\u001b[38;5;241m.\u001b[39mgetenv(\u001b[38;5;124m\"\u001b[39m\u001b[38;5;124mOAS2NII\u001b[39m\u001b[38;5;124m\"\u001b[39m)) \u001b[38;5;28;01mif\u001b[39;00m os\u001b[38;5;241m.\u001b[39mpath\u001b[38;5;241m.\u001b[39misfile(os\u001b[38;5;241m.\u001b[39mpath\u001b[38;5;241m.\u001b[39mjoin(os\u001b[38;5;241m.\u001b[39mgetenv(\u001b[38;5;124m\"\u001b[39m\u001b[38;5;124mOAS2NII\u001b[39m\u001b[38;5;124m\"\u001b[39m), f))]\n",
      "\u001b[0;31mFileNotFoundError\u001b[0m: [Errno 2] No such file or directory: 'datasets/OAS2_nii/OAS2_0001_MR1_V1.jpg' -> 'datasets/OAS2_nii/train/class_nondemented/OAS2_0001_MR1_V1.jpg'"
     ]
    }
   ],
   "source": [
    "# moveByClass(df)\n"
   ]
  },
  {
   "cell_type": "markdown",
   "metadata": {},
   "source": [
    "# Keras"
   ]
  },
  {
   "cell_type": "code",
   "execution_count": null,
   "metadata": {},
   "outputs": [],
   "source": [
    "# Needed to add cuda to path for GPU utilization\n",
    "# !source ~/.profile"
   ]
  },
  {
   "cell_type": "code",
   "execution_count": null,
   "metadata": {},
   "outputs": [],
   "source": [
    "import keras\n",
    "from keras import layers\n",
    "from keras import ops\n",
    "import SimpleITK as sitk"
   ]
  },
  {
   "cell_type": "code",
   "execution_count": null,
   "metadata": {},
   "outputs": [],
   "source": [
    "\n",
    "dset_train = keras.utils.image_dataset_from_directory(directory=os.path.join(os.getenv(\"OAS2NII\"),\"train\"), labels=\"inferred\")\n",
    "dset_test = keras.utils.image_dataset_from_directory(directory=os.path.join(os.getenv(\"OAS2NII\"),\"test\"), labels=\"inferred\")\n"
   ]
  },
  {
   "cell_type": "code",
   "execution_count": null,
   "metadata": {},
   "outputs": [],
   "source": [
    "img_inputs = keras.Input(shape=(256,256,3,))\n",
    "\n",
    "x = layers.Dense(64, activation=\"relu\")(img_inputs)\n",
    "x = layers.Dense(64, activation=\"relu\")(x)\n",
    "outputs = layers.Dense(10, activation=\"softmax\", name=\"predictions\")(x)\n",
    "model = keras.Model(inputs=img_inputs, outputs=outputs, name=\"oas2_model\")\n"
   ]
  },
  {
   "cell_type": "code",
   "execution_count": null,
   "metadata": {},
   "outputs": [],
   "source": [
    "model.summary()"
   ]
  },
  {
   "cell_type": "code",
   "execution_count": null,
   "metadata": {},
   "outputs": [],
   "source": [
    "model.compile(\n",
    "    optimizer=keras.optimizers.RMSprop(),  # Optimizer\n",
    "    # Loss function to minimize\n",
    "    loss=keras.losses.categorical_hinge(),\n",
    "    # List of metrics to monitor\n",
    "    metrics=[keras.metrics.AUC()],\n",
    ")\n",
    "\n",
    "print(\"Fit model on training data\")\n",
    "history = model.fit(\n",
    "    dset_train,\n",
    "    batch_size=64,\n",
    "    epochs=5,\n",
    "    # We pass some validation for\n",
    "    # monitoring validation loss and metrics\n",
    "    # at the end of each epoch\n",
    "    # validation_data=(x_val, y_val),\n",
    ")"
   ]
  },
  {
   "cell_type": "markdown",
   "metadata": {},
   "source": []
  },
  {
   "cell_type": "markdown",
   "metadata": {},
   "source": []
  },
  {
   "cell_type": "markdown",
   "metadata": {},
   "source": []
  }
 ],
 "metadata": {
  "kernelspec": {
   "display_name": "venv",
   "language": "python",
   "name": "python3"
  },
  "language_info": {
   "codemirror_mode": {
    "name": "ipython",
    "version": 3
   },
   "file_extension": ".py",
   "mimetype": "text/x-python",
   "name": "python",
   "nbconvert_exporter": "python",
   "pygments_lexer": "ipython3",
   "version": "3.10.12"
  }
 },
 "nbformat": 4,
 "nbformat_minor": 2
}
