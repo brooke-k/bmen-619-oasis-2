{
 "cells": [
  {
   "cell_type": "code",
   "execution_count": 33,
   "metadata": {},
   "outputs": [],
   "source": [
    "import os\n",
    "import shutil\n",
    "import re\n",
    "import pandas as pd\n",
    "import numpy as np\n",
    "from dotenv import load_dotenv\n",
    "import nibabel as nib"
   ]
  },
  {
   "cell_type": "markdown",
   "metadata": {},
   "source": [
    "# Data Organization"
   ]
  },
  {
   "cell_type": "code",
   "execution_count": 34,
   "metadata": {},
   "outputs": [],
   "source": [
    "def moveRename(source, dest):\n",
    "    \"\"\"\n",
    "    Moves all .hdr and .img images from source location to a single directory\n",
    "    \"\"\"\n",
    "    rawDirPat = r\"(?:[\\W\\S]+?)OAS2_([0-9]{4})_MR([0-9]{1})/RAW\"\n",
    "    for root, dir, files in os.walk(source):\n",
    "        r_match = re.findall(rawDirPat, root)\n",
    "        if len(r_match) > 0:\n",
    "            subID = r_match[0][0]\n",
    "            session = r_match[0][1]\n",
    "            new_name = f\"{subID}_{session}\"\n",
    "            for f in files:\n",
    "                fname, fext = os.path.splitext(f)\n",
    "                if fext == \".img\" or fext == \".hdr\":\n",
    "                    f_match = re.findall(r\"mpr-([0-9]{1}).nifti\", fname)\n",
    "                    if len(f_match) > 0:\n",
    "                        f_num = f_match[0]\n",
    "                        old_name = os.path.join(root, f)\n",
    "                        new_name = os.path.join(\n",
    "                            dest, f\"OAS2_{subID}_MR{f_num}_V{session}.nifti{fext}\"\n",
    "                        )\n",
    "                        print(f\"Copying {new_name}\")\n",
    "                        shutil.copy2(old_name, new_name)"
   ]
  },
  {
   "cell_type": "code",
   "execution_count": 35,
   "metadata": {},
   "outputs": [],
   "source": [
    "def convertToNii(source):\n",
    "    \"\"\"\n",
    "    Convert images from .img to .nii format and get rid of .img and .hdr files.\n",
    "    \"\"\"\n",
    "    for root, dir, files in os.walk(source):\n",
    "        for f in files:\n",
    "            fbase, fext = os.path.splitext(f)\n",
    "            if fext == \".img\":\n",
    "                print(f\"Converting {f}\")\n",
    "                fname = os.path.join(root, f)\n",
    "                img = nib.load(fname)\n",
    "                nib.save(img, fname.replace(\".img\", \".nii\"))\n",
    "                os.remove(os.path.join(root, fbase + \".hdr\"))\n",
    "                os.remove(os.path.join(root, fbase + \".img\"))"
   ]
  },
  {
   "cell_type": "code",
   "execution_count": null,
   "metadata": {},
   "outputs": [],
   "source": [
    "def removeVisits3to5(source):\n",
    "    \"\"\"\n",
    "    Removes all images taken at visits 3-5\n",
    "    \"\"\"\n",
    "    for root, dir, files in os.walk(source):\n",
    "        for f in files:\n",
    "            m = re.match(r\"OAS2_[0-9]{4}_MR[0-9]{1}_V([0-9]{1})\", f)\n",
    "            session_num = int(m.groups()[0])\n",
    "            if session_num >= 3:\n",
    "                print(f\"Removing {f}\")\n",
    "                os.remove(os.path.join(root, f))\n",
    "\n",
    "def removeSubjects(subjectIDs:list, source):\n",
    "    for root, dir, files in os.walk(source):\n",
    "        for f in files:\n",
    "            for id in subjectIDs:\n",
    "                m = re.match(re.compile(\"(\"+id+\")\"), f)\n",
    "                if m!= None:\n",
    "                    subjectIDs.remove(id)\n",
    "                    os.remove(os.path.join(root, f))\n"
   ]
  },
  {
   "cell_type": "code",
   "execution_count": null,
   "metadata": {},
   "outputs": [],
   "source": [
    "# Only run once, to move data\n",
    "# moveRename(\"datasets/OAS2\", \"datasets/OAS2_nii\")\n",
    "# convertToNii(\"datasets/OAS2_nii\")\n",
    "# removeVisits3to5(\"datasets/OAS2_nii\")\n",
    "# # Remove subject MRIs who had an age > 95\n",
    "# removeSubjects([\"OAS2_0051_MR3\", \"OAS2_0087_MR1\", \"OAS2_0087_MR2\"], os.getenv(\"OAS2NII\"))"
   ]
  },
  {
   "cell_type": "markdown",
   "metadata": {},
   "source": [
    "# Load Data"
   ]
  },
  {
   "cell_type": "code",
   "execution_count": 38,
   "metadata": {},
   "outputs": [],
   "source": [
    "load_dotenv()\n",
    "df = pd.read_excel(\"OAS2-normalized.xlsx\")"
   ]
  },
  {
   "cell_type": "code",
   "execution_count": null,
   "metadata": {},
   "outputs": [
    {
     "name": "stdout",
     "output_type": "stream",
     "text": [
      "291\n",
      "(291, 14)\n"
     ]
    }
   ],
   "source": [
    "fnames = []\n",
    "\n",
    "for index, row in df.iterrows():\n",
    "  fname = row[\"MRI ID\"] + \"_V\" + str(row[\"Visit\"]+1) +  \".nifti.nii\"\n",
    "  fnames += [os.path.join(os.getenv(\"OAS2NII\"),fname)]\n",
    "\n",
    "df[\"file\"] = fnames\n"
   ]
  },
  {
   "cell_type": "code",
   "execution_count": null,
   "metadata": {},
   "outputs": [],
   "source": []
  }
 ],
 "metadata": {
  "kernelspec": {
   "display_name": "venv",
   "language": "python",
   "name": "python3"
  },
  "language_info": {
   "codemirror_mode": {
    "name": "ipython",
    "version": 3
   },
   "file_extension": ".py",
   "mimetype": "text/x-python",
   "name": "python",
   "nbconvert_exporter": "python",
   "pygments_lexer": "ipython3",
   "version": "3.10.12"
  }
 },
 "nbformat": 4,
 "nbformat_minor": 2
}
